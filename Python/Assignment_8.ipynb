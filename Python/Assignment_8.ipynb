{
  "nbformat": 4,
  "nbformat_minor": 0,
  "metadata": {
    "colab": {
      "provenance": []
    },
    "kernelspec": {
      "name": "python3",
      "display_name": "Python 3"
    },
    "language_info": {
      "name": "python"
    }
  },
  "cells": [
    {
      "cell_type": "markdown",
      "source": [
        "1) create a list, accept 5 numbers , store them in the list and finally convert that list to numpy array."
      ],
      "metadata": {
        "id": "MWAMIKQXXHja"
      }
    },
    {
      "cell_type": "code",
      "execution_count": null,
      "metadata": {
        "id": "JYXchD7gV-cZ",
        "colab": {
          "base_uri": "https://localhost:8080/"
        },
        "outputId": "e586e984-414b-4ee4-e1b2-4f92bd5cdd15"
      },
      "outputs": [
        {
          "output_type": "stream",
          "name": "stdout",
          "text": [
            "Enter the number : 5\n",
            "Enter the number : 9\n",
            "Enter the number : 7\n",
            "Enter the number : 1\n",
            "Enter the number : 3\n",
            "[5 9 7 1 3]\n"
          ]
        }
      ],
      "source": [
        "import numpy as np\n",
        "\n",
        "ls=[]\n",
        "for i in range(5):\n",
        "    num=int(input(\"Enter the number : \"))\n",
        "    ls.append(num)\n",
        "arr=np.array(ls)\n",
        "print(arr)"
      ]
    },
    {
      "cell_type": "markdown",
      "source": [
        "2) create numpy array of 5 numbers and print their sum"
      ],
      "metadata": {
        "id": "QBgdOWFzgsjT"
      }
    },
    {
      "cell_type": "code",
      "source": [
        "import numpy as np\n",
        "\n",
        "arr=np.array([5,4,3,9,8])\n",
        "print(\"Given array is : \",arr)\n",
        "print(\"Sum of elements of array:\",sum(arr))\n",
        "print(\"Sum of elements of array: \",np.sum(arr,axis=0))\n",
        "\n",
        "sum=0\n",
        "for i in range(arr.__len__()):\n",
        "    sum+=arr[i]\n",
        "print(\"Sum of elements of array: (Using loop): \",sum)"
      ],
      "metadata": {
        "colab": {
          "base_uri": "https://localhost:8080/"
        },
        "id": "nlxR4c_kgoEV",
        "outputId": "2789e8e8-99dd-40e1-f9c9-f29a3867a4ce"
      },
      "execution_count": null,
      "outputs": [
        {
          "output_type": "stream",
          "name": "stdout",
          "text": [
            "Given array is :  [5 4 3 9 8]\n",
            "Sum of elements of array: 29\n",
            "Sum of elements of array:  29\n",
            "Sum of elements of array: (Using loop):  29\n"
          ]
        }
      ]
    },
    {
      "cell_type": "markdown",
      "source": [
        "3) create numpy double dimension array of 3*3 to store your initial and display them in a tabular form."
      ],
      "metadata": {
        "id": "3H_3Y7San-aM"
      }
    },
    {
      "cell_type": "code",
      "source": [
        "import numpy as np\n",
        "\n",
        "arr = np.array([['M','D','K'],['M','A','H'],['E','S','H']])\n",
        "\n",
        "for i in range (arr.__len__()):\n",
        "    for j in range (arr[i].__len__()):\n",
        "        print(arr[i][j],end=\"\\t\")\n",
        "    print(\"\\n\")\n",
        "\n",
        "#or\n",
        "print(\"*******\")\n",
        "\n",
        "for i in arr:\n",
        "    for j in i:\n",
        "      print(j,end=\"\\t\")\n",
        "    print(\"\\n\")"
      ],
      "metadata": {
        "id": "PrMxwTRBn21T",
        "colab": {
          "base_uri": "https://localhost:8080/"
        },
        "outputId": "f73fc746-097d-44c5-b37f-c7e0d32b8162"
      },
      "execution_count": null,
      "outputs": [
        {
          "output_type": "stream",
          "name": "stdout",
          "text": [
            "M\tD\tK\t\n",
            "\n",
            "M\tA\tH\t\n",
            "\n",
            "E\tS\tH\t\n",
            "\n",
            "*******\n",
            "M\tD\tK\t\n",
            "\n",
            "M\tA\tH\t\n",
            "\n",
            "E\tS\tH\t\n",
            "\n"
          ]
        }
      ]
    },
    {
      "cell_type": "markdown",
      "source": [
        "4) create one-d numpy array of 12 elements , accept 12 numbers and display them. Now convert this one-d array into (4*3) two-d array and display it in a tabular form."
      ],
      "metadata": {
        "id": "yJ1spxfKrCjB"
      }
    },
    {
      "cell_type": "code",
      "source": [
        "import numpy as np\n",
        "\n",
        "ls=[]\n",
        "for i in range (12):\n",
        "  num=int(input(f\"Enter number {i+1} : \"))\n",
        "  ls.append(num)\n",
        "ar = np.array(ls)\n",
        "print(ar)\n",
        "ar.shape=(4,3)\n",
        "print(\"*********\")\n",
        "for i in ar:\n",
        "  for j in i:\n",
        "    print(j,end=\"\\t\")\n",
        "  print(\"\\n\")"
      ],
      "metadata": {
        "id": "vB-dErwcq_cA",
        "colab": {
          "base_uri": "https://localhost:8080/"
        },
        "outputId": "97e917d8-470a-40a6-999e-84be36a9aaf0"
      },
      "execution_count": null,
      "outputs": [
        {
          "output_type": "stream",
          "name": "stdout",
          "text": [
            "Enter number 1 : 8\n",
            "Enter number 2 : 12\n",
            "Enter number 3 : 3\n",
            "Enter number 4 : 4\n",
            "Enter number 5 : 6\n",
            "Enter number 6 : 10\n",
            "Enter number 7 : 11\n",
            "Enter number 8 : 9\n",
            "Enter number 9 : 7\n",
            "Enter number 10 : 2\n",
            "Enter number 11 : 13\n",
            "Enter number 12 : 1\n",
            "[ 8 12  3  4  6 10 11  9  7  2 13  1]\n",
            "*********\n",
            "8\t12\t3\t\n",
            "\n",
            "4\t6\t10\t\n",
            "\n",
            "11\t9\t7\t\n",
            "\n",
            "2\t13\t1\t\n",
            "\n"
          ]
        }
      ]
    },
    {
      "cell_type": "markdown",
      "source": [
        "5) create two double dimension array and arrange (stack) them using \"axis=0\" \"axis=1\" and  \"axis=2\"."
      ],
      "metadata": {
        "id": "Ad67-zA4BgS2"
      }
    },
    {
      "cell_type": "code",
      "source": [
        "import numpy as np\n",
        "\n",
        "arr1=np.array([[1,2,4],[3,5,8]])\n",
        "arr2=np.array([[11,14,13],[9,7,1]])\n",
        "\n",
        "arr3=np.stack((arr1,arr2),axis=0)\n",
        "print(arr3)\n",
        "print(\"*************\")\n",
        "arr3=np.stack((arr1,arr2),axis=1)\n",
        "print(arr3)\n",
        "print(\"*************\")\n",
        "arr3=np.stack((arr1,arr2),axis=2)\n",
        "print(arr3)"
      ],
      "metadata": {
        "colab": {
          "base_uri": "https://localhost:8080/"
        },
        "id": "Dg-z_5BaBuz-",
        "outputId": "809c8648-6ecd-4c31-c465-eb0a5cb14470"
      },
      "execution_count": null,
      "outputs": [
        {
          "output_type": "stream",
          "name": "stdout",
          "text": [
            "[[[ 1  2  4]\n",
            "  [ 3  5  8]]\n",
            "\n",
            " [[11 14 13]\n",
            "  [ 9  7  1]]]\n",
            "*************\n",
            "[[[ 1  2  4]\n",
            "  [11 14 13]]\n",
            "\n",
            " [[ 3  5  8]\n",
            "  [ 9  7  1]]]\n",
            "*************\n",
            "[[[ 1 11]\n",
            "  [ 2 14]\n",
            "  [ 4 13]]\n",
            "\n",
            " [[ 3  9]\n",
            "  [ 5  7]\n",
            "  [ 8  1]]]\n"
          ]
        }
      ]
    },
    {
      "cell_type": "markdown",
      "source": [
        "6) create two one-d arrays and then find out:\n",
        "\n",
        "   a) common elements of both the array\n",
        "    \n",
        "  b) unique elements of first array\n",
        "      \n",
        "  c) unique elements of second array"
      ],
      "metadata": {
        "id": "WE4FzBpSGVB2"
      }
    },
    {
      "cell_type": "code",
      "source": [
        "import numpy as np\n",
        "\n",
        "arr1=np.array([1,2,8,6,4,6,3,4,8])\n",
        "arr2=np.array([3,5,4,7,8,6,1])\n",
        "a=np.intersect1d(arr1,arr2)\n",
        "print(a)\n",
        "print(\"***************\")\n",
        "a=np.setdiff1d(arr1,arr2)\n",
        "print(a)\n",
        "print(\"***************\")\n",
        "a=np.setdiff1d(arr2,arr1)\n",
        "print(a)"
      ],
      "metadata": {
        "colab": {
          "base_uri": "https://localhost:8080/"
        },
        "id": "P-fu2XJAGWQg",
        "outputId": "502d518c-78b2-483e-f7a5-0e0c6b318ed3"
      },
      "execution_count": null,
      "outputs": [
        {
          "output_type": "stream",
          "name": "stdout",
          "text": [
            "[1 3 4 6 8]\n",
            "***************\n",
            "[2]\n",
            "***************\n",
            "[5 7]\n"
          ]
        }
      ]
    },
    {
      "cell_type": "markdown",
      "source": [
        "7) accept no.of rows and no. of cols from the user , create two-d array accordingly. Now calculate the sum as per \"axis=0\" and \"axis=1\""
      ],
      "metadata": {
        "id": "MKSF9-slH8WW"
      }
    },
    {
      "cell_type": "code",
      "source": [
        "rowno=int(input(\"Enter number of rows : \"))\n",
        "colno=int(input(\"Enter number of columns : \"))\n",
        "ls=[]\n",
        "print(f\"Enter {rowno*colno} numbers : \")\n",
        "for i in range(rowno*colno):\n",
        "    num=int(input())\n",
        "    ls.append(num)\n",
        "arr=np.array(ls).reshape(rowno,colno)\n",
        "print(arr)\n",
        "print(\"**************\")\n",
        "sum=np.sum(arr,axis=0)\n",
        "print(\"Sum as per axis=0\")\n",
        "print(sum)\n",
        "print(\"**************\")\n",
        "sum=np.sum(arr,axis=1)\n",
        "print(\"Sum as per axis=1\")\n",
        "print(sum)"
      ],
      "metadata": {
        "colab": {
          "base_uri": "https://localhost:8080/"
        },
        "id": "YIBlyzo3H_Vn",
        "outputId": "a92f4fc7-ee5c-47c7-bc47-9441bcaa1927"
      },
      "execution_count": null,
      "outputs": [
        {
          "output_type": "stream",
          "name": "stdout",
          "text": [
            "Enter number of rows : 2\n",
            "Enter number of columns : 2\n",
            "Enter 4 numbers : \n",
            "6\n",
            "3\n",
            "2\n",
            "7\n",
            "[[6 3]\n",
            " [2 7]]\n",
            "**************\n",
            "Sum as per axis=0\n",
            "[ 8 10]\n",
            "**************\n",
            "Sum as per axis=1\n",
            "[9 9]\n"
          ]
        }
      ]
    },
    {
      "cell_type": "markdown",
      "source": [
        "\n",
        "8) declare two 2d arrays and calculate the sum as per \"axis=0\" \"axis=1\" and \"axis=2\""
      ],
      "metadata": {
        "id": "dUKB-ZGIF5OD"
      }
    },
    {
      "cell_type": "code",
      "source": [
        "import numpy as np\n",
        "\n",
        "arr1=np.array([[1,2,4],[3,5,8]])\n",
        "arr2=np.array([[11,14,13],[9,7,1]])\n",
        "\n",
        "arr3=np.sum((arr1,arr2),axis=0)\n",
        "print(arr3)\n",
        "print(\"*************\")\n",
        "arr3=np.sum((arr1,arr2),axis=1)\n",
        "print(arr3)\n",
        "print(\"*************\")\n",
        "arr3=np.sum((arr1,arr2),axis=2)\n",
        "print(arr3)"
      ],
      "metadata": {
        "colab": {
          "base_uri": "https://localhost:8080/"
        },
        "id": "A5a7NXaZFuEm",
        "outputId": "78bc954f-b2db-4465-9956-799958b2bc2a"
      },
      "execution_count": null,
      "outputs": [
        {
          "output_type": "stream",
          "name": "stdout",
          "text": [
            "[[12 16 17]\n",
            " [12 12  9]]\n",
            "*************\n",
            "[[ 4  7 12]\n",
            " [20 21 14]]\n",
            "*************\n",
            "[[ 7 16]\n",
            " [38 17]]\n"
          ]
        }
      ]
    },
    {
      "cell_type": "markdown",
      "source": [
        "9) create two-d array ,display it. Now accept a number from user and perform all arithmetic operations on each and every element of the array using that number."
      ],
      "metadata": {
        "id": "buxo5u8BMdnN"
      }
    },
    {
      "cell_type": "code",
      "source": [
        "import numpy as np\n",
        "\n",
        "np.random.seed(5)\n",
        "arr=np.random.randint(1,50,9).reshape(3,3)\n",
        "print(arr)\n",
        "num=int(input(\"Enter the number to perform maths operation = \"))\n",
        "print(\"Add operation\")\n",
        "print(arr.__add__(num))\n",
        "print(\"Subtract operation\")\n",
        "print(arr.__sub__(num))\n",
        "print(\"Multiply operation\")\n",
        "print(arr.__mul__(num))\n",
        "print(\"Division operation\")\n",
        "print(arr.__truediv__(num))"
      ],
      "metadata": {
        "colab": {
          "base_uri": "https://localhost:8080/"
        },
        "id": "2gktg2ysMhZp",
        "outputId": "0310bc9b-dee9-497b-8fab-61c40a4529df"
      },
      "execution_count": null,
      "outputs": [
        {
          "output_type": "stream",
          "name": "stdout",
          "text": [
            "[[36 15 48]\n",
            " [39 17 10]\n",
            " [ 9 37 40]]\n",
            "Enter the number to perform maths operation = 5\n",
            "Add operation\n",
            "[[41 20 53]\n",
            " [44 22 15]\n",
            " [14 42 45]]\n",
            "Subtract operation\n",
            "[[31 10 43]\n",
            " [34 12  5]\n",
            " [ 4 32 35]]\n",
            "Multiply operation\n",
            "[[180  75 240]\n",
            " [195  85  50]\n",
            " [ 45 185 200]]\n",
            "Division operation\n",
            "[[7.2 3.  9.6]\n",
            " [7.8 3.4 2. ]\n",
            " [1.8 7.4 8. ]]\n"
          ]
        }
      ]
    },
    {
      "cell_type": "markdown",
      "source": [
        "10) Accept start, end and how many numbers to be generated and then using \"linspace\" create numpy array."
      ],
      "metadata": {
        "id": "KCkWUcfoxzyK"
      }
    },
    {
      "cell_type": "code",
      "source": [
        "import numpy as np\n",
        "start=int(input(\"Enter the start point=\"))\n",
        "end=int(input(\"Enter the end point=\"))\n",
        "sep=int(input(\"Enter how many numbers to be generated=\"))\n",
        "\n",
        "arr=np.linspace(start,end,sep)\n",
        "print(arr)"
      ],
      "metadata": {
        "colab": {
          "base_uri": "https://localhost:8080/"
        },
        "id": "w3at32t5x0tf",
        "outputId": "679f70b9-0bcb-4dd5-aa7e-f173cb1f4938"
      },
      "execution_count": 1,
      "outputs": [
        {
          "output_type": "stream",
          "name": "stdout",
          "text": [
            "Enter the start point=5\n",
            "Enter the end point=15\n",
            "Enter how many numbers to be generated=5\n",
            "[ 5.   7.5 10.  12.5 15. ]\n"
          ]
        }
      ]
    },
    {
      "cell_type": "markdown",
      "source": [
        "11) create one-d array of 8 numbers and then using \"slicing\" concept,\n",
        "\n",
        "a) print numbers from 1 to 4\n",
        "\n",
        "b) print all the numbers from 3rd position\n",
        "\n",
        "c) print last 3 numbers"
      ],
      "metadata": {
        "id": "zAf1pXpkzeAD"
      }
    },
    {
      "cell_type": "code",
      "source": [
        "arr=[10,20,30,40,50,60,70,80]\n",
        "\n",
        "print(\"Numbers from 1 to 4\")\n",
        "print(arr[1:5])\n",
        "\n",
        "print(\"all numbers from 3rd position\")\n",
        "print(arr[3:])\n",
        "\n",
        "print(\"last 3 numbers\")\n",
        "print(arr[-3:])"
      ],
      "metadata": {
        "colab": {
          "base_uri": "https://localhost:8080/"
        },
        "id": "Oh-qy0KNzRgZ",
        "outputId": "4a54a9cb-99b7-4312-bbe4-4b1cca740d2f"
      },
      "execution_count": 5,
      "outputs": [
        {
          "output_type": "stream",
          "name": "stdout",
          "text": [
            "Numbers from 1 to 4\n",
            "[20, 30, 40, 50]\n",
            "all numbers from 3rd position\n",
            "[40, 50, 60, 70, 80]\n",
            "last 3 numbers\n",
            "[60, 70, 80]\n"
          ]
        }
      ]
    },
    {
      "cell_type": "markdown",
      "source": [
        "\n",
        "12) create 2 d array (4*3) with following values:\n",
        "\n",
        "[[10,20,30,40],[50,60,70,80],[90,100,110,120]]\n",
        "\n",
        "now using array slicing concept display following values\n",
        "* a) display   50  60  70  80\n",
        "* b) display 100 and 110\n",
        "* c) display 30 70 and 110\n",
        "* d) display 50  60  90 and 100"
      ],
      "metadata": {
        "id": "tTeTi5N41fPf"
      }
    },
    {
      "cell_type": "code",
      "source": [
        "import numpy as np\n",
        "arr=np.array([[10,20,30,40],[50,60,70,80],[90,100,110,120]])\n",
        "\n",
        "print(\"Answer of (a)\")\n",
        "print(arr[1,:3])\n",
        "\n",
        "print(\"Answer of (b)\")\n",
        "print(arr[2,1:3])\n",
        "\n",
        "print(\"Answer of (c)\")\n",
        "print(arr[1:,:2])"
      ],
      "metadata": {
        "colab": {
          "base_uri": "https://localhost:8080/"
        },
        "id": "BQTKtL-g1tGK",
        "outputId": "f762e623-3a8f-4ebe-de26-94f9afcd166b"
      },
      "execution_count": 13,
      "outputs": [
        {
          "output_type": "stream",
          "name": "stdout",
          "text": [
            "Answer of (a)\n",
            "[50 60 70]\n",
            "Answer of (b)\n",
            "[100 110]\n",
            "Answer of (c)\n",
            "[[ 50  60]\n",
            " [ 90 100]]\n"
          ]
        }
      ]
    }
  ]
}