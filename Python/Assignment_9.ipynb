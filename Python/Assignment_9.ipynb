{
  "cells": [
    {
      "cell_type": "markdown",
      "metadata": {
        "id": "WkjEgFwUTONp"
      },
      "source": [
        "1) Store marks of 5 subjects\n",
        "\there use marks as actual data and subject names as indexes.\n",
        "Accept both marks and subjects from the user."
      ]
    },
    {
      "cell_type": "code",
      "execution_count": null,
      "metadata": {
        "colab": {
          "base_uri": "https://localhost:8080/"
        },
        "id": "uvRs19n3TBlA",
        "outputId": "978442bf-2c39-4c41-911f-5bc6f46884ef"
      },
      "outputs": [
        {
          "output_type": "stream",
          "name": "stdout",
          "text": [
            "Enter the subjects : Marathi\n",
            "Enter the marks : 94\n",
            "Enter the subjects : English\n",
            "Enter the marks : 81\n",
            "Enter the subjects : Science\n",
            "Enter the marks : 90\n",
            "Enter the subjects : Maths\n",
            "Enter the marks : 99\n",
            "Enter the subjects : Hindi\n",
            "Enter the marks : 76\n",
            "Marathi    94\n",
            "English    81\n",
            "Science    90\n",
            "Maths      99\n",
            "Hindi      76\n",
            "dtype: int64\n"
          ]
        }
      ],
      "source": [
        "from pandas import *\n",
        "\n",
        "sub_mark={}\n",
        "for i in range (5):\n",
        "  subs=input(\"Enter the subjects : \")\n",
        "  mks=int(input(\"Enter the marks : \"))\n",
        "  sub_mark.update({subs:mks})\n",
        "\n",
        "myseries=Series(sub_mark)\n",
        "print(myseries)"
      ]
    },
    {
      "cell_type": "markdown",
      "source": [
        "2) create dictionary to store player name and runs scored of at least 5 players. Display it. Now convert this dictionary ‌into Series object and print it."
      ],
      "metadata": {
        "id": "X0PbtT7hnUni"
      }
    },
    {
      "cell_type": "code",
      "source": [
        "from pandas import *\n",
        "\n",
        "player_run={\"Sachin\":101,\"Virat\":95,\"Dhoni\":99,\"Rohit\":83,\"Ashwin\":76}\n",
        "print(player_run)\n",
        "\n",
        "myseries=Series(player_run)\n",
        "print(\"Dictionary converted into Series: \")\n",
        "print(myseries)"
      ],
      "metadata": {
        "colab": {
          "base_uri": "https://localhost:8080/"
        },
        "id": "ALw-bKUpnXro",
        "outputId": "8a2f1c25-01d5-49fb-9b4e-f310a9e869b3"
      },
      "execution_count": null,
      "outputs": [
        {
          "output_type": "stream",
          "name": "stdout",
          "text": [
            "{'Sachin': 101, 'Virat': 95, 'Dhoni': 99, 'Rohit': 83, 'Ashwin': 76}\n",
            "Dictionary converted into Series: \n",
            "Sachin    101\n",
            "Virat      95\n",
            "Dhoni      99\n",
            "Rohit      83\n",
            "Ashwin     76\n",
            "dtype: int64\n"
          ]
        }
      ]
    },
    {
      "cell_type": "markdown",
      "source": [
        "3) accept 10 values and store them in the Series. Now perform following operations:\n",
        "\n",
        "a) display the entire Series\n",
        "\n",
        "b) extract 3rd element\n",
        "\n",
        "c) extract elements from 4 to 7\n",
        "\n",
        "d) extract elements from fourth last till the last element\n",
        "\n",
        "e) extract first 3 elements\n",
        "\n",
        "f) extract elements from the 5th position"
      ],
      "metadata": {
        "id": "kNIibHFvU64f"
      }
    },
    {
      "cell_type": "code",
      "source": [
        "ls=[]\n",
        "for i in range(10):\n",
        "  num=int(input(\"Enter the number : \"))\n",
        "  ls.append(num)\n",
        "\n",
        "srs=Series(ls)\n",
        "print(\"Series : \\n\",srs)\n",
        "\n",
        "print(\"3rd element : \\n\",srs[2])\n",
        "\n",
        "print(\"Elements from 4 to 7 : \\n\",srs[4:8])\n",
        "\n",
        "print(\"Elements from 4th last till last : \\n\",srs[-4:])\n",
        "\n",
        "print(\"first 3 elements : \\n\",srs[:3])\n",
        "\n",
        "print(\"from 5th position : \\n\",srs[5])"
      ],
      "metadata": {
        "colab": {
          "base_uri": "https://localhost:8080/"
        },
        "id": "FHIxI3gUVB8Z",
        "outputId": "41e4ffd3-3660-46ff-d0e9-1c754eb529fd"
      },
      "execution_count": 8,
      "outputs": [
        {
          "output_type": "stream",
          "name": "stdout",
          "text": [
            "Enter the number : 9\n",
            "Enter the number : 3\n",
            "Enter the number : 4\n",
            "Enter the number : 7\n",
            "Enter the number : 5\n",
            "Enter the number : 1\n",
            "Enter the number : 10\n",
            "Enter the number : 8\n",
            "Enter the number : 6\n",
            "Enter the number : 2\n",
            "Series : \n",
            " 0     9\n",
            "1     3\n",
            "2     4\n",
            "3     7\n",
            "4     5\n",
            "5     1\n",
            "6    10\n",
            "7     8\n",
            "8     6\n",
            "9     2\n",
            "dtype: int64\n",
            "3rd element : \n",
            " 4\n",
            "Elements from 4 to 7 : \n",
            " 4     5\n",
            "5     1\n",
            "6    10\n",
            "7     8\n",
            "dtype: int64\n",
            "Elements from 4th last till last : \n",
            " 6    10\n",
            "7     8\n",
            "8     6\n",
            "9     2\n",
            "dtype: int64\n",
            "first 3 elements : \n",
            " 0    9\n",
            "1    3\n",
            "2    4\n",
            "dtype: int64\n",
            "from 5th position : \n",
            " 1\n"
          ]
        }
      ]
    },
    {
      "cell_type": "markdown",
      "source": [
        "4) accept 5 values in a Series and perform the following operations:\n",
        "  \n",
        "   a) display their sum\n",
        "  \n",
        "  b) add the value accepted from the user\n",
        "  \n",
        "  c) subtract the value accepted from the user\n",
        "  \n",
        "  d) multiply the value accepted from the user\n",
        "  \n",
        "  e) add the value accepted from the user"
      ],
      "metadata": {
        "id": "KnUKSTBNSFfp"
      }
    },
    {
      "cell_type": "code",
      "source": [
        "from pandas import *\n",
        "\n",
        "ls=[]\n",
        "for i in range(5):\n",
        "  num=int(input(\"Enter the number : \"))\n",
        "  ls.append(num)\n",
        "\n",
        "srs=Series(ls)\n",
        "print(srs)\n",
        "\n",
        "print(\"Sum of elements of series : \",sum(srs))\n",
        "\n",
        "num=int(input(\"Enter the number to be added : \"))\n",
        "print(srs.add(num))\n",
        "\n",
        "num=int(input(\"Enter the number to be subtracted : \"))\n",
        "print(srs.sub(num))\n",
        "\n",
        "num=int(input(\"Enter the number to be multiplied : \"))\n",
        "print(srs.mul(num))"
      ],
      "metadata": {
        "colab": {
          "base_uri": "https://localhost:8080/"
        },
        "id": "uL3dtjZ8SSXn",
        "outputId": "1df5883c-6221-459e-a6ec-465a58949c87"
      },
      "execution_count": 2,
      "outputs": [
        {
          "output_type": "stream",
          "name": "stdout",
          "text": [
            "Enter the number : 10\n",
            "Enter the number : 20\n",
            "Enter the number : 30\n",
            "Enter the number : 40\n",
            "Enter the number : 50\n",
            "0    10\n",
            "1    20\n",
            "2    30\n",
            "3    40\n",
            "4    50\n",
            "dtype: int64\n",
            "Sum of elements of series :  150\n",
            "Enter the number to be added : 5\n",
            "0    15\n",
            "1    25\n",
            "2    35\n",
            "3    45\n",
            "4    55\n",
            "dtype: int64\n",
            "Enter the number to be subtracted : 6\n",
            "0     4\n",
            "1    14\n",
            "2    24\n",
            "3    34\n",
            "4    44\n",
            "dtype: int64\n",
            "Enter the number to be multiplied : 3\n",
            "0     30\n",
            "1     60\n",
            "2     90\n",
            "3    120\n",
            "4    150\n",
            "dtype: int64\n"
          ]
        }
      ]
    },
    {
      "cell_type": "markdown",
      "source": [
        "5) accept 5 names,designations and salaries and display them with DataFrame."
      ],
      "metadata": {
        "id": "fm3cIAP_dJSS"
      }
    },
    {
      "cell_type": "code",
      "source": [
        "from pandas import *\n",
        "\n",
        "ls1=[]\n",
        "ls2=[]\n",
        "ls3=[]\n",
        "\n",
        "for i in range(5):\n",
        "  name=input(\"Enter name : \")\n",
        "  dsgn=input(\"Enter designation : \")\n",
        "  sal=int(input(\"Enter salary : \"))\n",
        "  ls1.append(name)\n",
        "  ls2.append(dsgn)\n",
        "  ls3.append(sal)\n",
        "data={\"Name\":ls1,\"Designation\":ls2,\"Salary\":ls3}\n",
        "\n",
        "dataframe=DataFrame(data)\n",
        "print(dataframe)"
      ],
      "metadata": {
        "colab": {
          "base_uri": "https://localhost:8080/"
        },
        "id": "I8f_mGteYJ0v",
        "outputId": "17c7cb50-4951-4641-b45b-b94cac6cbfb9"
      },
      "execution_count": 13,
      "outputs": [
        {
          "output_type": "stream",
          "name": "stdout",
          "text": [
            "Enter name : Rohit\n",
            "Enter designation : Project Manager\n",
            "Enter salary : 10000\n",
            "Enter name : Rita\n",
            "Enter designation : Project Associate\n",
            "Enter salary : 8000\n",
            "Enter name : Rishi\n",
            "Enter designation : Reasearch Manager\n",
            "Enter salary : 15000\n",
            "Enter name : Roshan\n",
            "Enter designation : Research Associate\n",
            "Enter salary : 9000\n",
            "Enter name : Rohan\n",
            "Enter designation : Project Assistant\n",
            "Enter salary : 6000\n",
            "     Name         Designation  Salary\n",
            "0   Rohit     Project Manager   10000\n",
            "1    Rita   Project Associate    8000\n",
            "2   Rishi   Reasearch Manager   15000\n",
            "3  Roshan  Research Associate    9000\n",
            "4   Rohan   Project Assistant    6000\n"
          ]
        }
      ]
    },
    {
      "cell_type": "markdown",
      "source": [
        "6) create a csv file (with whatever columns and rows you want) manually and then read using pandas."
      ],
      "metadata": {
        "id": "cNIoIao5nXsJ"
      }
    },
    {
      "cell_type": "code",
      "source": [
        "from pandas import *\n",
        "\n",
        "serial_no=[1,2,3,4,5]\n",
        "product=[\"laptop\",\"mobile\",\"washing machine\",\"fan\",\"tv\"]\n",
        "price=[35000,10000,8000,2000,19000]\n",
        "\n",
        "data={\"Serial no\":serial_no,\"Products\":product,\"Price\":price}\n",
        "dataframe1=DataFrame(data)\n",
        "\n",
        "dataframe1.to_csv(\"Example_6.csv\")\n",
        "\n",
        "dataframe2 = read_csv(\"Example_6.csv\")\n",
        "print(dataframe2)"
      ],
      "metadata": {
        "id": "1MI1fz9CnbWC"
      },
      "execution_count": null,
      "outputs": []
    },
    {
      "cell_type": "markdown",
      "source": [
        "7) create \"Vita.xlsx\" using pandas. In this Excel file you have to create 2 sheets \"DBDA\", and \"DAC\".\n",
        "in each sheet you have to write name,address and age of all the team leaders.\n",
        "make sure Excel file gets created successfully."
      ],
      "metadata": {
        "id": "LydjV10l9vrR"
      }
    },
    {
      "cell_type": "code",
      "source": [
        "import pandas as pd\n",
        "\n",
        "name1 = [\"Rohit\",\"Roshan\",\"Rita\",\"Rutuja\",\"Rohan\"]\n",
        "address1 = [\"Mumbai\",\"Delhi\",\"Nagpur\",\"Punjab\",\"Nashik\"]\n",
        "age1 = [25,24,22,26,21]\n",
        "\n",
        "mydictionary1 = {'Name':name1,'Address':address1,'Age':age1}\n",
        "mydataframe1 = pd.DataFrame(mydictionary1)\n",
        "\n",
        "\n",
        "\n",
        "name2=[\"Rishi\",\"Pooja\",\"Akshay\",\"Deepa\"]\n",
        "address2=[\"Gurgaon\",\"Palghar\",\"Chennai\",\"Pune\"]\n",
        "age2=[21,22,24,21]\n",
        "\n",
        "mydictionary2={'Name':name2,'Address':address2,'Age':age2}\n",
        "mydataframe2=pd.DataFrame(mydictionary2)\n",
        "\n",
        "print(mydataframe1)\n",
        "print(\"\\n\")\n",
        "print(mydataframe2)\n",
        "\n",
        "with pd.ExcelWriter('Vita.xlsx') as mywriter:\n",
        "    mydataframe1.to_excel(mywriter, sheet_name='DBDA_sheet',index=False)\n",
        "    mydataframe2.to_excel(mywriter, sheet_name='DAC_sheet',index=False)"
      ],
      "metadata": {
        "id": "0aSzOT7q9zz6"
      },
      "execution_count": null,
      "outputs": []
    }
  ],
  "metadata": {
    "colab": {
      "provenance": []
    },
    "kernelspec": {
      "display_name": "Python 3",
      "name": "python3"
    },
    "language_info": {
      "name": "python"
    }
  },
  "nbformat": 4,
  "nbformat_minor": 0
}